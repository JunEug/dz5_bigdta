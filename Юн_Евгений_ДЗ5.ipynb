{
 "cells": [
  {
   "cell_type": "code",
   "execution_count": 38,
   "id": "3b6bcc41",
   "metadata": {},
   "outputs": [],
   "source": [
    "import pandas as pd\n",
    "import numpy as np\n",
    "from xgboost import XGBClassifier\n",
    "from sklift.metrics import uplift_at_k\n",
    "from sklearn.model_selection import train_test_split"
   ]
  },
  {
   "cell_type": "code",
   "execution_count": 30,
   "id": "62c3ed69",
   "metadata": {},
   "outputs": [],
   "source": [
    "df = pd.read_csv('./dz_files/uplift_synthetic_data_100trials.csv')"
   ]
  },
  {
   "cell_type": "code",
   "execution_count": 31,
   "id": "63b4d712",
   "metadata": {},
   "outputs": [
    {
     "name": "stdout",
     "output_type": "stream",
     "text": [
      "<class 'pandas.core.frame.DataFrame'>\n",
      "RangeIndex: 1000000 entries, 0 to 999999\n",
      "Data columns (total 43 columns):\n",
      " #   Column                      Non-Null Count    Dtype  \n",
      "---  ------                      --------------    -----  \n",
      " 0   Unnamed: 0                  1000000 non-null  int64  \n",
      " 1   trial_id                    1000000 non-null  int64  \n",
      " 2   treatment_group_key         1000000 non-null  object \n",
      " 3   conversion                  1000000 non-null  int64  \n",
      " 4   control_conversion_prob     1000000 non-null  float64\n",
      " 5   treatment1_conversion_prob  1000000 non-null  float64\n",
      " 6   treatment1_true_effect      1000000 non-null  float64\n",
      " 7   x1_informative              1000000 non-null  float64\n",
      " 8   x2_informative              1000000 non-null  float64\n",
      " 9   x3_informative              1000000 non-null  float64\n",
      " 10  x4_informative              1000000 non-null  float64\n",
      " 11  x5_informative              1000000 non-null  float64\n",
      " 12  x6_informative              1000000 non-null  float64\n",
      " 13  x7_informative              1000000 non-null  float64\n",
      " 14  x8_informative              1000000 non-null  float64\n",
      " 15  x9_informative              1000000 non-null  float64\n",
      " 16  x10_informative             1000000 non-null  float64\n",
      " 17  x11_irrelevant              1000000 non-null  float64\n",
      " 18  x12_irrelevant              1000000 non-null  float64\n",
      " 19  x13_irrelevant              1000000 non-null  float64\n",
      " 20  x14_irrelevant              1000000 non-null  float64\n",
      " 21  x15_irrelevant              1000000 non-null  float64\n",
      " 22  x16_irrelevant              1000000 non-null  float64\n",
      " 23  x17_irrelevant              1000000 non-null  float64\n",
      " 24  x18_irrelevant              1000000 non-null  float64\n",
      " 25  x19_irrelevant              1000000 non-null  float64\n",
      " 26  x20_irrelevant              1000000 non-null  float64\n",
      " 27  x21_irrelevant              1000000 non-null  float64\n",
      " 28  x22_irrelevant              1000000 non-null  float64\n",
      " 29  x23_irrelevant              1000000 non-null  float64\n",
      " 30  x24_irrelevant              1000000 non-null  float64\n",
      " 31  x25_irrelevant              1000000 non-null  float64\n",
      " 32  x26_irrelevant              1000000 non-null  float64\n",
      " 33  x27_irrelevant              1000000 non-null  float64\n",
      " 34  x28_irrelevant              1000000 non-null  float64\n",
      " 35  x29_irrelevant              1000000 non-null  float64\n",
      " 36  x30_irrelevant              1000000 non-null  float64\n",
      " 37  x31_uplift_increase         1000000 non-null  float64\n",
      " 38  x32_uplift_increase         1000000 non-null  float64\n",
      " 39  x33_uplift_increase         1000000 non-null  float64\n",
      " 40  x34_uplift_increase         1000000 non-null  float64\n",
      " 41  x35_uplift_increase         1000000 non-null  float64\n",
      " 42  x36_uplift_increase         1000000 non-null  float64\n",
      "dtypes: float64(39), int64(3), object(1)\n",
      "memory usage: 328.1+ MB\n",
      "None\n"
     ]
    }
   ],
   "source": [
    "print(df.info())"
   ]
  },
  {
   "cell_type": "code",
   "execution_count": 32,
   "id": "71b661de",
   "metadata": {},
   "outputs": [
    {
     "name": "stdout",
     "output_type": "stream",
     "text": [
      "   Unnamed: 0  trial_id treatment_group_key  conversion  \\\n",
      "0           0         0             control           1   \n",
      "1           1         0          treatment1           1   \n",
      "2           2         0          treatment1           0   \n",
      "3           3         0          treatment1           1   \n",
      "4           4         0             control           0   \n",
      "\n",
      "   control_conversion_prob  treatment1_conversion_prob  \\\n",
      "0                 0.516606                    0.572609   \n",
      "1                 0.304005                    0.736460   \n",
      "2                 0.134277                    0.480985   \n",
      "3                 0.801968                    0.858532   \n",
      "4                 0.063552                    0.060142   \n",
      "\n",
      "   treatment1_true_effect  x1_informative  x2_informative  x3_informative  \\\n",
      "0                0.056002       -1.926651        1.233472       -0.475120   \n",
      "1                0.432454        0.904364        0.868705       -0.285977   \n",
      "2                0.346709        1.680978        1.320889        0.059273   \n",
      "3                0.056563       -0.335774       -2.940232       -0.302521   \n",
      "4               -0.003410       -0.475881       -0.485793        0.978582   \n",
      "\n",
      "   ...  x27_irrelevant  x28_irrelevant  x29_irrelevant  x30_irrelevant  \\\n",
      "0  ...       -0.378145       -0.110782        1.087180       -1.222069   \n",
      "1  ...       -0.742847        0.700239        0.001867       -0.069362   \n",
      "2  ...        0.748884       -0.856898       -0.268034       -2.181874   \n",
      "3  ...        0.151074        0.067547       -0.839246        0.587575   \n",
      "4  ...       -1.287117        1.256396       -1.155307       -0.414787   \n",
      "\n",
      "   x31_uplift_increase  x32_uplift_increase  x33_uplift_increase  \\\n",
      "0            -0.279009             1.013911            -0.570859   \n",
      "1             0.045789             1.364182            -0.261643   \n",
      "2             1.473214            -1.256641             0.901139   \n",
      "3             0.412081             0.141189             0.369611   \n",
      "4             1.163851             0.698114             0.088157   \n",
      "\n",
      "   x34_uplift_increase  x35_uplift_increase  x36_uplift_increase  \n",
      "0            -1.158216            -1.336279            -0.708056  \n",
      "1             0.478074             0.531477             0.402723  \n",
      "2             2.029204            -0.280445             0.873970  \n",
      "3            -0.364984            -1.509045            -1.335023  \n",
      "4             0.478717            -0.680588            -2.730850  \n",
      "\n",
      "[5 rows x 43 columns]\n"
     ]
    }
   ],
   "source": [
    "print(df.head())"
   ]
  },
  {
   "cell_type": "code",
   "execution_count": 33,
   "id": "c1b0d903",
   "metadata": {},
   "outputs": [],
   "source": [
    "from sklearn.model_selection import train_test_split"
   ]
  },
  {
   "cell_type": "code",
   "execution_count": 39,
   "id": "b0024835",
   "metadata": {},
   "outputs": [],
   "source": [
    "X = df[['x1_informative', 'x2_informative', 'x3_informative', 'x4_informative', 'x5_informative', 'x6_informative', 'x7_informative', 'x8_informative', 'x9_informative', 'x10_informative', 'x11_irrelevant', 'x12_irrelevant', 'x13_irrelevant', 'x14_irrelevant', 'x15_irrelevant', 'x16_irrelevant', 'x17_irrelevant', 'x18_irrelevant', 'x19_irrelevant', 'x20_irrelevant', 'x21_irrelevant', 'x22_irrelevant', 'x23_irrelevant', 'x24_irrelevant', 'x25_irrelevant', 'x26_irrelevant', 'x27_irrelevant', 'x28_irrelevant', 'x29_irrelevant', 'x30_irrelevant', 'x31_uplift_increase', 'x32_uplift_increase', 'x33_uplift_increase', 'x34_uplift_increase', 'x35_uplift_increase', 'x36_uplift_increase']]\n",
    "y = df['conversion']"
   ]
  },
  {
   "cell_type": "code",
   "execution_count": 46,
   "id": "740afc04",
   "metadata": {},
   "outputs": [
    {
     "ename": "ValueError",
     "evalue": "not enough values to unpack (expected 6, got 4)",
     "output_type": "error",
     "traceback": [
      "\u001b[1;31m---------------------------------------------------------------------------\u001b[0m",
      "\u001b[1;31mValueError\u001b[0m                                Traceback (most recent call last)",
      "Cell \u001b[1;32mIn[46], line 1\u001b[0m\n\u001b[1;32m----> 1\u001b[0m X_train, X_test, y_train, y_test, uplift_train, uplift_test \u001b[38;5;241m=\u001b[39m train_test_split(X, y, test_size\u001b[38;5;241m=\u001b[39m\u001b[38;5;241m0.2\u001b[39m, random_state\u001b[38;5;241m=\u001b[39m\u001b[38;5;241m42\u001b[39m)\n",
      "\u001b[1;31mValueError\u001b[0m: not enough values to unpack (expected 6, got 4)"
     ]
    }
   ],
   "source": [
    "X_train, X_test, y_train, y_test, uplift_train, uplift_test = train_test_split(X, y, test_size=0.2, random_state=42)"
   ]
  },
  {
   "cell_type": "code",
   "execution_count": 47,
   "id": "ce5a6413",
   "metadata": {},
   "outputs": [
    {
     "ename": "TypeError",
     "evalue": "'<' not supported between instances of 'str' and 'float'",
     "output_type": "error",
     "traceback": [
      "\u001b[1;31m---------------------------------------------------------------------------\u001b[0m",
      "\u001b[1;31mTypeError\u001b[0m                                 Traceback (most recent call last)",
      "Cell \u001b[1;32mIn[47], line 2\u001b[0m\n\u001b[0;32m      1\u001b[0m model \u001b[38;5;241m=\u001b[39m XGBClassifier()\n\u001b[1;32m----> 2\u001b[0m model\u001b[38;5;241m.\u001b[39mfit(X_train, uplift_train)\n",
      "File \u001b[1;32mF:\\Anaconda3\\Lib\\site-packages\\xgboost\\core.py:729\u001b[0m, in \u001b[0;36mrequire_keyword_args.<locals>.throw_if.<locals>.inner_f\u001b[1;34m(*args, **kwargs)\u001b[0m\n\u001b[0;32m    727\u001b[0m \u001b[38;5;28;01mfor\u001b[39;00m k, arg \u001b[38;5;129;01min\u001b[39;00m \u001b[38;5;28mzip\u001b[39m(sig\u001b[38;5;241m.\u001b[39mparameters, args):\n\u001b[0;32m    728\u001b[0m     kwargs[k] \u001b[38;5;241m=\u001b[39m arg\n\u001b[1;32m--> 729\u001b[0m \u001b[38;5;28;01mreturn\u001b[39;00m func(\u001b[38;5;241m*\u001b[39m\u001b[38;5;241m*\u001b[39mkwargs)\n",
      "File \u001b[1;32mF:\\Anaconda3\\Lib\\site-packages\\xgboost\\sklearn.py:1460\u001b[0m, in \u001b[0;36mXGBClassifier.fit\u001b[1;34m(self, X, y, sample_weight, base_margin, eval_set, eval_metric, early_stopping_rounds, verbose, xgb_model, sample_weight_eval_set, base_margin_eval_set, feature_weights, callbacks)\u001b[0m\n\u001b[0;32m   1458\u001b[0m     expected_classes \u001b[38;5;241m=\u001b[39m cp\u001b[38;5;241m.\u001b[39marray(\u001b[38;5;28mself\u001b[39m\u001b[38;5;241m.\u001b[39mclasses_)\n\u001b[0;32m   1459\u001b[0m \u001b[38;5;28;01melse\u001b[39;00m:\n\u001b[1;32m-> 1460\u001b[0m     classes \u001b[38;5;241m=\u001b[39m np\u001b[38;5;241m.\u001b[39munique(np\u001b[38;5;241m.\u001b[39masarray(y))\n\u001b[0;32m   1461\u001b[0m     \u001b[38;5;28mself\u001b[39m\u001b[38;5;241m.\u001b[39mn_classes_ \u001b[38;5;241m=\u001b[39m \u001b[38;5;28mlen\u001b[39m(classes)\n\u001b[0;32m   1462\u001b[0m     expected_classes \u001b[38;5;241m=\u001b[39m \u001b[38;5;28mself\u001b[39m\u001b[38;5;241m.\u001b[39mclasses_\n",
      "File \u001b[1;32m<__array_function__ internals>:200\u001b[0m, in \u001b[0;36munique\u001b[1;34m(*args, **kwargs)\u001b[0m\n",
      "File \u001b[1;32mF:\\Anaconda3\\Lib\\site-packages\\numpy\\lib\\arraysetops.py:274\u001b[0m, in \u001b[0;36munique\u001b[1;34m(ar, return_index, return_inverse, return_counts, axis, equal_nan)\u001b[0m\n\u001b[0;32m    272\u001b[0m ar \u001b[38;5;241m=\u001b[39m np\u001b[38;5;241m.\u001b[39masanyarray(ar)\n\u001b[0;32m    273\u001b[0m \u001b[38;5;28;01mif\u001b[39;00m axis \u001b[38;5;129;01mis\u001b[39;00m \u001b[38;5;28;01mNone\u001b[39;00m:\n\u001b[1;32m--> 274\u001b[0m     ret \u001b[38;5;241m=\u001b[39m _unique1d(ar, return_index, return_inverse, return_counts, \n\u001b[0;32m    275\u001b[0m                     equal_nan\u001b[38;5;241m=\u001b[39mequal_nan)\n\u001b[0;32m    276\u001b[0m     \u001b[38;5;28;01mreturn\u001b[39;00m _unpack_tuple(ret)\n\u001b[0;32m    278\u001b[0m \u001b[38;5;66;03m# axis was specified and not None\u001b[39;00m\n",
      "File \u001b[1;32mF:\\Anaconda3\\Lib\\site-packages\\numpy\\lib\\arraysetops.py:336\u001b[0m, in \u001b[0;36m_unique1d\u001b[1;34m(ar, return_index, return_inverse, return_counts, equal_nan)\u001b[0m\n\u001b[0;32m    334\u001b[0m     aux \u001b[38;5;241m=\u001b[39m ar[perm]\n\u001b[0;32m    335\u001b[0m \u001b[38;5;28;01melse\u001b[39;00m:\n\u001b[1;32m--> 336\u001b[0m     ar\u001b[38;5;241m.\u001b[39msort()\n\u001b[0;32m    337\u001b[0m     aux \u001b[38;5;241m=\u001b[39m ar\n\u001b[0;32m    338\u001b[0m mask \u001b[38;5;241m=\u001b[39m np\u001b[38;5;241m.\u001b[39mempty(aux\u001b[38;5;241m.\u001b[39mshape, dtype\u001b[38;5;241m=\u001b[39mnp\u001b[38;5;241m.\u001b[39mbool_)\n",
      "\u001b[1;31mTypeError\u001b[0m: '<' not supported between instances of 'str' and 'float'"
     ]
    }
   ],
   "source": [
    "model = XGBClassifier()\n",
    "model.fit(X_train, uplift_train)"
   ]
  },
  {
   "cell_type": "code",
   "execution_count": null,
   "id": "143539f8",
   "metadata": {},
   "outputs": [],
   "source": []
  },
  {
   "cell_type": "code",
   "execution_count": null,
   "id": "82c4f002",
   "metadata": {},
   "outputs": [],
   "source": []
  },
  {
   "cell_type": "code",
   "execution_count": null,
   "id": "5544273f",
   "metadata": {},
   "outputs": [],
   "source": []
  },
  {
   "cell_type": "code",
   "execution_count": null,
   "id": "b26eae27",
   "metadata": {},
   "outputs": [],
   "source": []
  }
 ],
 "metadata": {
  "kernelspec": {
   "display_name": "Python 3 (ipykernel)",
   "language": "python",
   "name": "python3"
  },
  "language_info": {
   "codemirror_mode": {
    "name": "ipython",
    "version": 3
   },
   "file_extension": ".py",
   "mimetype": "text/x-python",
   "name": "python",
   "nbconvert_exporter": "python",
   "pygments_lexer": "ipython3",
   "version": "3.11.5"
  }
 },
 "nbformat": 4,
 "nbformat_minor": 5
}
